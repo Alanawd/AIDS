{
  "nbformat": 4,
  "nbformat_minor": 0,
  "metadata": {
    "colab": {
      "name": "AIDS-PROJECT-NLP.ipynb",
      "provenance": [],
      "collapsed_sections": [],
      "authorship_tag": "ABX9TyOpawepVc9LrjZApZJLw9Re",
      "include_colab_link": true
    },
    "kernelspec": {
      "name": "python3",
      "display_name": "Python 3"
    },
    "language_info": {
      "name": "python"
    }
  },
  "cells": [
    {
      "cell_type": "markdown",
      "metadata": {
        "id": "view-in-github",
        "colab_type": "text"
      },
      "source": [
        "<a href=\"https://colab.research.google.com/github/Alanawd/AIDS/blob/main/AIDS_PROJECT_NLP.ipynb\" target=\"_parent\"><img src=\"https://colab.research.google.com/assets/colab-badge.svg\" alt=\"Open In Colab\"/></a>"
      ]
    },
    {
      "cell_type": "code",
      "metadata": {
        "colab": {
          "base_uri": "https://localhost:8080/",
          "height": 206
        },
        "id": "fav2371dbNTV",
        "outputId": "a21f0429-36e9-417c-ea47-7533387f943f"
      },
      "source": [
        "import pandas as pd\n",
        "\n",
        "#data = pd.read_csv(\"bbc-news-data-set.csv\")\n",
        "#data.head()\n",
        "\n",
        "df = pd.read_csv(\"bbc-news-data-set.csv\")\n",
        "df.head()"
      ],
      "execution_count": 24,
      "outputs": [
        {
          "output_type": "execute_result",
          "data": {
            "text/html": [
              "<div>\n",
              "<style scoped>\n",
              "    .dataframe tbody tr th:only-of-type {\n",
              "        vertical-align: middle;\n",
              "    }\n",
              "\n",
              "    .dataframe tbody tr th {\n",
              "        vertical-align: top;\n",
              "    }\n",
              "\n",
              "    .dataframe thead th {\n",
              "        text-align: right;\n",
              "    }\n",
              "</style>\n",
              "<table border=\"1\" class=\"dataframe\">\n",
              "  <thead>\n",
              "    <tr style=\"text-align: right;\">\n",
              "      <th></th>\n",
              "      <th>date</th>\n",
              "      <th>headline</th>\n",
              "      <th>description</th>\n",
              "      <th>label</th>\n",
              "    </tr>\n",
              "  </thead>\n",
              "  <tbody>\n",
              "    <tr>\n",
              "      <th>0</th>\n",
              "      <td>Wed, 04 Aug 2021 10:37:32 GMT</td>\n",
              "      <td>'Blistered' couple set to finish Olympic sport...</td>\n",
              "      <td>Charlotte Nichols and Stuart Bates are attempt...</td>\n",
              "      <td>uk</td>\n",
              "    </tr>\n",
              "    <tr>\n",
              "      <th>1</th>\n",
              "      <td>Wed, 21 Jul 2021 18:06:19 GMT</td>\n",
              "      <td>'Catastrophic' backlog at driving licence body...</td>\n",
              "      <td>MPs are told bad decisions by DVLA managers re...</td>\n",
              "      <td>business</td>\n",
              "    </tr>\n",
              "    <tr>\n",
              "      <th>2</th>\n",
              "      <td>Wed, 14 Jul 2021 06:41:09 GMT</td>\n",
              "      <td>'Endless ribbon' decorates Coventry for City o...</td>\n",
              "      <td>Artist Morag Myerscough created the colourful ...</td>\n",
              "      <td>uk</td>\n",
              "    </tr>\n",
              "    <tr>\n",
              "      <th>3</th>\n",
              "      <td>Fri, 23 Jul 2021 01:43:40 GMT</td>\n",
              "      <td>'Ghost school' with no students for a second year</td>\n",
              "      <td>English language schools warn they are on the ...</td>\n",
              "      <td>education-and-family</td>\n",
              "    </tr>\n",
              "    <tr>\n",
              "      <th>4</th>\n",
              "      <td>Tue, 29 Jun 2021 05:37:38 GMT</td>\n",
              "      <td>'Holiday food poisoning left me paralysed'</td>\n",
              "      <td>Malcolm Brown developed a rare autoimmune dise...</td>\n",
              "      <td>health</td>\n",
              "    </tr>\n",
              "  </tbody>\n",
              "</table>\n",
              "</div>"
            ],
            "text/plain": [
              "                            date  ...                 label\n",
              "0  Wed, 04 Aug 2021 10:37:32 GMT  ...                    uk\n",
              "1  Wed, 21 Jul 2021 18:06:19 GMT  ...              business\n",
              "2  Wed, 14 Jul 2021 06:41:09 GMT  ...                    uk\n",
              "3  Fri, 23 Jul 2021 01:43:40 GMT  ...  education-and-family\n",
              "4  Tue, 29 Jun 2021 05:37:38 GMT  ...                health\n",
              "\n",
              "[5 rows x 4 columns]"
            ]
          },
          "metadata": {
            "tags": []
          },
          "execution_count": 24
        }
      ]
    },
    {
      "cell_type": "code",
      "metadata": {
        "id": "6wtQPPRvbS39"
      },
      "source": [
        ""
      ],
      "execution_count": 24,
      "outputs": []
    },
    {
      "cell_type": "code",
      "metadata": {
        "colab": {
          "base_uri": "https://localhost:8080/",
          "height": 206
        },
        "id": "g-Cpt5v9biqq",
        "outputId": "632a9c90-14e9-4a4c-81a9-8a3c1cbebee4"
      },
      "source": [
        "df.label = pd.Categorical(df.label)\n",
        "\n",
        "df['code'] = df.label.cat.codes\n",
        "\n",
        "df.head()\n",
        "df.tail()\n",
        "\n"
      ],
      "execution_count": 17,
      "outputs": [
        {
          "output_type": "execute_result",
          "data": {
            "text/html": [
              "<div>\n",
              "<style scoped>\n",
              "    .dataframe tbody tr th:only-of-type {\n",
              "        vertical-align: middle;\n",
              "    }\n",
              "\n",
              "    .dataframe tbody tr th {\n",
              "        vertical-align: top;\n",
              "    }\n",
              "\n",
              "    .dataframe thead th {\n",
              "        text-align: right;\n",
              "    }\n",
              "</style>\n",
              "<table border=\"1\" class=\"dataframe\">\n",
              "  <thead>\n",
              "    <tr style=\"text-align: right;\">\n",
              "      <th></th>\n",
              "      <th>date</th>\n",
              "      <th>headline</th>\n",
              "      <th>description</th>\n",
              "      <th>label</th>\n",
              "      <th>code</th>\n",
              "    </tr>\n",
              "  </thead>\n",
              "  <tbody>\n",
              "    <tr>\n",
              "      <th>931</th>\n",
              "      <td>Thu, 22 Jul 2021 09:16:40 GMT</td>\n",
              "      <td>Zoomtown-on-Sea? The lure of a new life on the...</td>\n",
              "      <td>Remote working meant the Lancaster family coul...</td>\n",
              "      <td>technology</td>\n",
              "      <td>7</td>\n",
              "    </tr>\n",
              "    <tr>\n",
              "      <th>932</th>\n",
              "      <td>Thu, 29 Jul 2021 05:38:36 GMT</td>\n",
              "      <td>£23.5m and no patients. Was this Nightingale w...</td>\n",
              "      <td>It was built in case existing hospitals were s...</td>\n",
              "      <td>uk</td>\n",
              "      <td>8</td>\n",
              "    </tr>\n",
              "    <tr>\n",
              "      <th>933</th>\n",
              "      <td>Mon, 02 Aug 2021 08:51:07 GMT</td>\n",
              "      <td>‘Covid passports’: How to get the NHS Covid Pass</td>\n",
              "      <td>People in England can use the pass for travel ...</td>\n",
              "      <td>politics</td>\n",
              "      <td>4</td>\n",
              "    </tr>\n",
              "    <tr>\n",
              "      <th>934</th>\n",
              "      <td>Tue, 03 Aug 2021 23:01:51 GMT</td>\n",
              "      <td>‘I can’t study sitting on the pavement’</td>\n",
              "      <td>Asma Shaikh, a 17-year-old homeless girl, has ...</td>\n",
              "      <td>world</td>\n",
              "      <td>9</td>\n",
              "    </tr>\n",
              "    <tr>\n",
              "      <th>935</th>\n",
              "      <td>Tue, 06 Jul 2021 11:00:59 GMT</td>\n",
              "      <td>‘There were no avatars like me so we made a game’</td>\n",
              "      <td>A lack of black characters led graphic designe...</td>\n",
              "      <td>technology</td>\n",
              "      <td>7</td>\n",
              "    </tr>\n",
              "  </tbody>\n",
              "</table>\n",
              "</div>"
            ],
            "text/plain": [
              "                              date  ... code\n",
              "931  Thu, 22 Jul 2021 09:16:40 GMT  ...    7\n",
              "932  Thu, 29 Jul 2021 05:38:36 GMT  ...    8\n",
              "933  Mon, 02 Aug 2021 08:51:07 GMT  ...    4\n",
              "934  Tue, 03 Aug 2021 23:01:51 GMT  ...    9\n",
              "935  Tue, 06 Jul 2021 11:00:59 GMT  ...    7\n",
              "\n",
              "[5 rows x 5 columns]"
            ]
          },
          "metadata": {
            "tags": []
          },
          "execution_count": 17
        }
      ]
    },
    {
      "cell_type": "code",
      "metadata": {
        "id": "-M7WJ75gc6bM"
      },
      "source": [
        ""
      ],
      "execution_count": null,
      "outputs": []
    },
    {
      "cell_type": "code",
      "metadata": {
        "colab": {
          "base_uri": "https://localhost:8080/"
        },
        "id": "TaRZEzJ7cwOx",
        "outputId": "de07d7f8-d9ee-4881-815a-72c556a9cba4"
      },
      "source": [
        "df['code'] = pd.factorize(df['label'])[0] + 1\n",
        "\n",
        "print(df)"
      ],
      "execution_count": 25,
      "outputs": [
        {
          "output_type": "stream",
          "text": [
            "                              date  ... code\n",
            "0    Wed, 04 Aug 2021 10:37:32 GMT  ...    1\n",
            "1    Wed, 21 Jul 2021 18:06:19 GMT  ...    2\n",
            "2    Wed, 14 Jul 2021 06:41:09 GMT  ...    1\n",
            "3    Fri, 23 Jul 2021 01:43:40 GMT  ...    3\n",
            "4    Tue, 29 Jun 2021 05:37:38 GMT  ...    4\n",
            "..                             ...  ...  ...\n",
            "931  Thu, 22 Jul 2021 09:16:40 GMT  ...    9\n",
            "932  Thu, 29 Jul 2021 05:38:36 GMT  ...    1\n",
            "933  Mon, 02 Aug 2021 08:51:07 GMT  ...    8\n",
            "934  Tue, 03 Aug 2021 23:01:51 GMT  ...    5\n",
            "935  Tue, 06 Jul 2021 11:00:59 GMT  ...    9\n",
            "\n",
            "[936 rows x 5 columns]\n"
          ],
          "name": "stdout"
        }
      ]
    },
    {
      "cell_type": "code",
      "metadata": {
        "colab": {
          "base_uri": "https://localhost:8080/"
        },
        "id": "WpW1WNXMc7aG",
        "outputId": "faa889b0-0e15-47da-afa5-5ab37e694d09"
      },
      "source": [
        "print(df.code)"
      ],
      "execution_count": 18,
      "outputs": [
        {
          "output_type": "stream",
          "text": [
            "0      8\n",
            "1      0\n",
            "2      8\n",
            "3      1\n",
            "4      3\n",
            "      ..\n",
            "931    7\n",
            "932    8\n",
            "933    4\n",
            "934    9\n",
            "935    7\n",
            "Name: code, Length: 936, dtype: int8\n"
          ],
          "name": "stdout"
        }
      ]
    },
    {
      "cell_type": "code",
      "metadata": {
        "colab": {
          "base_uri": "https://localhost:8080/"
        },
        "id": "BHT2UGARdvMG",
        "outputId": "9b59291d-6b62-4437-cbbf-55138ab17e97"
      },
      "source": [
        "    print(df['label'].unique())\n",
        "    print(df['code'].unique())"
      ],
      "execution_count": 29,
      "outputs": [
        {
          "output_type": "stream",
          "text": [
            "['uk' 'business' 'education-and-family' 'health' 'world'\n",
            " 'science-and-environment' 'entertainment-and-arts' 'politics'\n",
            " 'technology' 'sport']\n",
            "[ 1  2  3  4  5  6  7  8  9 10]\n"
          ],
          "name": "stdout"
        }
      ]
    }
  ]
}