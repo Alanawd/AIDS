{
  "nbformat": 4,
  "nbformat_minor": 0,
  "metadata": {
    "colab": {
      "name": "AIDS-project.ipynb",
      "provenance": [],
      "collapsed_sections": [],
      "authorship_tag": "ABX9TyO+dQUFlcMDL9KXFZjQX92z",
      "include_colab_link": true
    },
    "kernelspec": {
      "name": "python3",
      "display_name": "Python 3"
    },
    "language_info": {
      "name": "python"
    }
  },
  "cells": [
    {
      "cell_type": "markdown",
      "metadata": {
        "id": "view-in-github",
        "colab_type": "text"
      },
      "source": [
        "<a href=\"https://colab.research.google.com/github/Alanawd/AIDS/blob/main/AIDS_project.ipynb\" target=\"_parent\"><img src=\"https://colab.research.google.com/assets/colab-badge.svg\" alt=\"Open In Colab\"/></a>"
      ]
    },
    {
      "cell_type": "code",
      "metadata": {
        "colab": {
          "base_uri": "https://localhost:8080/",
          "height": 206
        },
        "id": "E1GrOdgP271s",
        "outputId": "a7cbc7e1-0582-409d-c733-2f6b6941707e"
      },
      "source": [
        "import pandas as pd\n",
        "\n",
        "data = pd.read_csv(\"bbc-news-data-set.csv\")\n",
        "data.head()"
      ],
      "execution_count": 2,
      "outputs": [
        {
          "output_type": "execute_result",
          "data": {
            "text/html": [
              "<div>\n",
              "<style scoped>\n",
              "    .dataframe tbody tr th:only-of-type {\n",
              "        vertical-align: middle;\n",
              "    }\n",
              "\n",
              "    .dataframe tbody tr th {\n",
              "        vertical-align: top;\n",
              "    }\n",
              "\n",
              "    .dataframe thead th {\n",
              "        text-align: right;\n",
              "    }\n",
              "</style>\n",
              "<table border=\"1\" class=\"dataframe\">\n",
              "  <thead>\n",
              "    <tr style=\"text-align: right;\">\n",
              "      <th></th>\n",
              "      <th>date</th>\n",
              "      <th>headline</th>\n",
              "      <th>description</th>\n",
              "      <th>label</th>\n",
              "    </tr>\n",
              "  </thead>\n",
              "  <tbody>\n",
              "    <tr>\n",
              "      <th>0</th>\n",
              "      <td>Wed, 04 Aug 2021 10:37:32 GMT</td>\n",
              "      <td>'Blistered' couple set to finish Olympic sport...</td>\n",
              "      <td>Charlotte Nichols and Stuart Bates are attempt...</td>\n",
              "      <td>uk</td>\n",
              "    </tr>\n",
              "    <tr>\n",
              "      <th>1</th>\n",
              "      <td>Wed, 21 Jul 2021 18:06:19 GMT</td>\n",
              "      <td>'Catastrophic' backlog at driving licence body...</td>\n",
              "      <td>MPs are told bad decisions by DVLA managers re...</td>\n",
              "      <td>business</td>\n",
              "    </tr>\n",
              "    <tr>\n",
              "      <th>2</th>\n",
              "      <td>Wed, 14 Jul 2021 06:41:09 GMT</td>\n",
              "      <td>'Endless ribbon' decorates Coventry for City o...</td>\n",
              "      <td>Artist Morag Myerscough created the colourful ...</td>\n",
              "      <td>uk</td>\n",
              "    </tr>\n",
              "    <tr>\n",
              "      <th>3</th>\n",
              "      <td>Fri, 23 Jul 2021 01:43:40 GMT</td>\n",
              "      <td>'Ghost school' with no students for a second year</td>\n",
              "      <td>English language schools warn they are on the ...</td>\n",
              "      <td>education-and-family</td>\n",
              "    </tr>\n",
              "    <tr>\n",
              "      <th>4</th>\n",
              "      <td>Tue, 29 Jun 2021 05:37:38 GMT</td>\n",
              "      <td>'Holiday food poisoning left me paralysed'</td>\n",
              "      <td>Malcolm Brown developed a rare autoimmune dise...</td>\n",
              "      <td>health</td>\n",
              "    </tr>\n",
              "  </tbody>\n",
              "</table>\n",
              "</div>"
            ],
            "text/plain": [
              "                            date  ...                 label\n",
              "0  Wed, 04 Aug 2021 10:37:32 GMT  ...                    uk\n",
              "1  Wed, 21 Jul 2021 18:06:19 GMT  ...              business\n",
              "2  Wed, 14 Jul 2021 06:41:09 GMT  ...                    uk\n",
              "3  Fri, 23 Jul 2021 01:43:40 GMT  ...  education-and-family\n",
              "4  Tue, 29 Jun 2021 05:37:38 GMT  ...                health\n",
              "\n",
              "[5 rows x 4 columns]"
            ]
          },
          "metadata": {
            "tags": []
          },
          "execution_count": 2
        }
      ]
    },
    {
      "cell_type": "code",
      "metadata": {
        "colab": {
          "base_uri": "https://localhost:8080/"
        },
        "id": "g9X4Q8rk4RWO",
        "outputId": "5aeaee98-8ff9-4aad-a82a-74072b9b34a7"
      },
      "source": [
        "#E xploratory Data Analysis EDA\n",
        "#https://towardsdatascience.com/exploratory-data-analysis-in-python-c9a77dfa39ce\n",
        "# Importing required libraries.\n",
        "import pandas as pd\n",
        "import numpy as np\n",
        "import seaborn as sns #visualisation\n",
        "import matplotlib.pyplot as plt #visualisation\n",
        "%matplotlib inline \n",
        "sns.set(color_codes=True)\n",
        "\n",
        "df = pd.read_csv('bbc-news-data-set.csv')\n",
        "# To display the top 5 rows\n",
        "df.head(5)\n",
        "\n",
        "# To display the bottom 5 rows\n",
        "df.tail(5) \n",
        "\n",
        "# Checking the data type\n",
        "df.dtypes\n",
        "\n",
        "# Total number of rows and columns\n",
        "df.shape"
      ],
      "execution_count": 6,
      "outputs": [
        {
          "output_type": "execute_result",
          "data": {
            "text/plain": [
              "(936, 4)"
            ]
          },
          "metadata": {
            "tags": []
          },
          "execution_count": 6
        }
      ]
    },
    {
      "cell_type": "code",
      "metadata": {
        "colab": {
          "base_uri": "https://localhost:8080/"
        },
        "id": "aXO_KBt75jDj",
        "outputId": "fa23fd8d-e467-4034-9e8e-49b5da5387b1"
      },
      "source": [
        "# Rows containing duplicate data\n",
        "duplicate_rows_df = df[df.duplicated()]\n",
        "print('number of duplicate rows:' , duplicate_rows_df.shape)"
      ],
      "execution_count": 8,
      "outputs": [
        {
          "output_type": "stream",
          "text": [
            "number of duplicate rows: (0, 4)\n"
          ],
          "name": "stdout"
        }
      ]
    },
    {
      "cell_type": "code",
      "metadata": {
        "colab": {
          "base_uri": "https://localhost:8080/"
        },
        "id": "mS5TP8rw55jt",
        "outputId": "be923188-90fb-47b1-909b-28d99633bac3"
      },
      "source": [
        "# Used to count the number of rows before removing the data\n",
        "df.count() "
      ],
      "execution_count": 9,
      "outputs": [
        {
          "output_type": "execute_result",
          "data": {
            "text/plain": [
              "date           936\n",
              "headline       936\n",
              "description    936\n",
              "label          936\n",
              "dtype: int64"
            ]
          },
          "metadata": {
            "tags": []
          },
          "execution_count": 9
        }
      ]
    },
    {
      "cell_type": "code",
      "metadata": {
        "id": "vXE85F9Y95Lp"
      },
      "source": [
        ""
      ],
      "execution_count": null,
      "outputs": []
    },
    {
      "cell_type": "code",
      "metadata": {
        "colab": {
          "base_uri": "https://localhost:8080/"
        },
        "id": "2YYYPjWZ9umI",
        "outputId": "bb849fe9-6bae-47a4-ed1d-87e16f9873b1"
      },
      "source": [
        "# Finding the null values.\n",
        "print(df.isnull().sum())"
      ],
      "execution_count": 10,
      "outputs": [
        {
          "output_type": "stream",
          "text": [
            "date           0\n",
            "headline       0\n",
            "description    0\n",
            "label          0\n",
            "dtype: int64\n"
          ],
          "name": "stdout"
        }
      ]
    },
    {
      "cell_type": "code",
      "metadata": {
        "colab": {
          "base_uri": "https://localhost:8080/",
          "height": 458
        },
        "id": "gc7eoHnL96HM",
        "outputId": "57662bc4-59f5-48dd-d752-87cebf3bd5ae"
      },
      "source": [
        "#https://towardsdatascience.com/exploratory-data-analysis-eda-python-87178e35b14\n",
        "# Let's calculate the percentage of each label status category.\n",
        "data.label.value_counts(normalize=True)\n",
        "\n",
        "\n",
        "#plot the bar graph of percentage label categories\n",
        "data.label.value_counts(normalize=True).plot.barh()\n",
        "plt.show()\n",
        "\n",
        "## labels counting\n",
        "labelcount = data.label.value_counts()\n",
        "print(labelcount)"
      ],
      "execution_count": 31,
      "outputs": [
        {
          "output_type": "display_data",
          "data": {
            "image/png": "[encoded data removed]",
            "text/plain": [
              "<Figure size 432x288 with 1 Axes>"
            ]
          },
          "metadata": {
            "tags": []
          }
        },
        {
          "output_type": "stream",
          "text": [
            "politics                   147\n",
            "business                   132\n",
            "health                     112\n",
            "uk                          99\n",
            "world                       92\n",
            "sport                       84\n",
            "entertainment-and-arts      82\n",
            "education-and-family        66\n",
            "science-and-environment     62\n",
            "technology                  60\n",
            "Name: label, dtype: int64\n"
          ],
          "name": "stdout"
        }
      ]
    },
    {
      "cell_type": "code",
      "metadata": {
        "colab": {
          "base_uri": "https://localhost:8080/",
          "height": 248
        },
        "id": "rs6tVTbkBdsk",
        "outputId": "1d018ba9-6f47-4222-cb83-27460f97be44"
      },
      "source": [
        "#calculate the percentage of each label category.\n",
        "data.label.value_counts(normalize=True)\n",
        "\n",
        "#plot the pie chart of education categories\n",
        "data.label.value_counts(normalize=True).plot.pie()\n",
        "plt.show()"
      ],
      "execution_count": 32,
      "outputs": [
        {
          "output_type": "display_data",
          "data": {
            "image/png": "[encoded data removed]",
            "text/plain": [
              "<Figure size 432x288 with 1 Axes>"
            ]
          },
          "metadata": {
            "tags": []
          }
        }
      ]
    }
  ]
}