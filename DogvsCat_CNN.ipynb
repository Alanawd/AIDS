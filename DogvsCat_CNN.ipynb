{
  "nbformat": 4,
  "nbformat_minor": 0,
  "metadata": {
    "colab": {
      "name": "Exercise2_DogvsCat_CNN.ipynb",
      "provenance": [],
      "include_colab_link": true
    },
    "kernelspec": {
      "name": "python3",
      "display_name": "Python 3"
    },
    "accelerator": "GPU"
  },
  "cells": [
    {
      "cell_type": "markdown",
      "metadata": {
        "id": "view-in-github",
        "colab_type": "text"
      },
      "source": [
        "<a href=\"https://colab.research.google.com/github/sagihaider/IADS_SC_2021_DeepLearning/blob/main/DogvsCat_CNN.ipynb\" target=\"_parent\"><img src=\"https://colab.research.google.com/assets/colab-badge.svg\" alt=\"Open In Colab\"/></a>"
      ]
    },
    {
      "cell_type": "markdown",
      "metadata": {
        "id": "qTh9DiKVslsJ"
      },
      "source": [
        "## Dogs vs. Cats \n",
        "\n",
        "In this competition, you'll write an algorithm to classify whether images contain either a dog or a cat.  This is easy for humans, dogs, and cats. Your computer will find it a bit more difficult.\n",
        "\n",
        "![alt text](https://miro.medium.com/max/3000/1*bhFifratH9DjKqMBTeQG5A.gif)\n",
        "\n",
        "Ref: https://medium.com/@thegrigorian/rolling-in-the-deep-cnn-c8d3f7108c8c"
      ]
    },
    {
      "cell_type": "markdown",
      "metadata": {
        "id": "RSBI-_mSSY1g"
      },
      "source": [
        "Get your API Key from Kaggle using following steps:\n",
        "1. Login to [Kaggle](https://www.kaggle.com/) or Register if you don't have account\n",
        "2. Open Dataset (https://www.kaggle.com/c/dogs-vs-cats/rules) and accept terms and condition. \n",
        "3. On the top right corner click on your Icon and go to accounts and press a button \"Create New API Token\". It will download a JSON file containing your username and key. \n",
        "4. Now, paste both below. \n"
      ]
    },
    {
      "cell_type": "code",
      "metadata": {
        "id": "YmXSOc0tZIGA",
        "colab": {
          "base_uri": "https://localhost:8080/"
        },
        "outputId": "5ecc870c-3db4-49b8-8cfd-84101973cd6a"
      },
      "source": [
        "import os\n",
        "os.environ['KAGGLE_USERNAME'] = \"sagihaider\" # username from the json file\n",
        "os.environ['KAGGLE_KEY'] = \"xxx\" # key from the json file\n",
        "!kaggle competitions download -c dogs-vs-cats # api copied from kaggle (https://www.kaggle.com/c/dogs-vs-cats/data)"
      ],
      "execution_count": 1,
      "outputs": [
        {
          "output_type": "stream",
          "text": [
            "Warning: Looks like you're using an outdated API Version, please consider updating (server 1.5.12 / client 1.5.4)\n",
            "Downloading train.zip to /content\n",
            " 99% 539M/543M [00:02<00:00, 166MB/s]\n",
            "100% 543M/543M [00:03<00:00, 187MB/s]\n",
            "Downloading test1.zip to /content\n",
            " 96% 261M/271M [00:01<00:00, 177MB/s]\n",
            "100% 271M/271M [00:01<00:00, 155MB/s]\n",
            "Downloading sampleSubmission.csv to /content\n",
            "  0% 0.00/86.8k [00:00<?, ?B/s]\n",
            "100% 86.8k/86.8k [00:00<00:00, 92.0MB/s]\n"
          ],
          "name": "stdout"
        }
      ]
    },
    {
      "cell_type": "code",
      "metadata": {
        "id": "PiwIL8d1n7eS",
        "colab": {
          "base_uri": "https://localhost:8080/"
        },
        "outputId": "c1e71386-9c74-4b5e-f902-46e6e3640124"
      },
      "source": [
        "# Unzip training data\n",
        "from zipfile import ZipFile\n",
        "file_name = \"/content/train.zip\"\n",
        "with ZipFile(file_name, 'r') as zip:\n",
        "  zip.extractall()\n",
        "  print('done')"
      ],
      "execution_count": 2,
      "outputs": [
        {
          "output_type": "stream",
          "text": [
            "done\n"
          ],
          "name": "stdout"
        }
      ]
    },
    {
      "cell_type": "code",
      "metadata": {
        "id": "sa2Bj5i7pPKV",
        "outputId": "52f917c9-fd90-49de-af70-83b4dc4a970e",
        "colab": {
          "base_uri": "https://localhost:8080/"
        }
      },
      "source": [
        "# Get all the paths\n",
        "data_dir_list = os.listdir('/content/train')\n",
        "#print(data_dir_list)\n",
        "path, dirs, files = next(os.walk(\"/content/train\"))\n",
        "file_count = len(files)\n",
        "print(file_count)"
      ],
      "execution_count": 3,
      "outputs": [
        {
          "output_type": "stream",
          "text": [
            "25000\n"
          ],
          "name": "stdout"
        }
      ]
    },
    {
      "cell_type": "code",
      "metadata": {
        "id": "0ERlHkfHqpK8"
      },
      "source": [
        "# Make new base directory\n",
        "original_dataset_dir = '/content/train'\n",
        "base_dir = '/content/cats_and_dogs_small'\n",
        "os.mkdir(base_dir)"
      ],
      "execution_count": 4,
      "outputs": []
    },
    {
      "cell_type": "code",
      "metadata": {
        "id": "AANB1UJ6rQhM"
      },
      "source": [
        "train_dir = os.path.join(base_dir, 'train')\n",
        "os.mkdir(train_dir)\n",
        "\n",
        "validation_dir = os.path.join(base_dir, 'validation')\n",
        "os.mkdir(validation_dir)\n",
        "\n",
        "test_dir = os.path.join(base_dir, 'test')\n",
        "os.mkdir(test_dir)\n",
        "\n",
        "train_cats_dir = os.path.join(train_dir, 'cats')\n",
        "os.mkdir(train_cats_dir)\n",
        "\n",
        "train_dogs_dir = os.path.join(train_dir, 'dogs')\n",
        "os.mkdir(train_dogs_dir)\n",
        "\n",
        "validation_cats_dir = os.path.join(validation_dir, 'cats')\n",
        "os.mkdir(validation_cats_dir)\n",
        "\n",
        "validation_dogs_dir = os.path.join(validation_dir, 'dogs')\n",
        "os.mkdir(validation_dogs_dir)\n",
        "\n",
        "test_cats_dir = os.path.join(test_dir, 'cats')\n",
        "os.mkdir(test_cats_dir)\n",
        "\n",
        "test_dogs_dir = os.path.join(test_dir, 'dogs')\n",
        "os.mkdir(test_dogs_dir)"
      ],
      "execution_count": 5,
      "outputs": []
    },
    {
      "cell_type": "code",
      "metadata": {
        "id": "ULRgL9s9rV8T"
      },
      "source": [
        "import shutil\n",
        "fnames = ['cat.{}.jpg'.format(i) for i in range(1000)]\n",
        "for fname in fnames:\n",
        "    src = os.path.join(original_dataset_dir, fname)\n",
        "    dst = os.path.join(train_cats_dir, fname)\n",
        "    #print(src,dst)\n",
        "    shutil.copyfile(src, dst)\n",
        "    \n",
        "fnames = ['cat.{}.jpg'.format(i) for i in range(1000, 1500)]\n",
        "for fname in fnames:\n",
        "    src = os.path.join(original_dataset_dir, fname)\n",
        "    dst = os.path.join(validation_cats_dir, fname)\n",
        "    shutil.copyfile(src, dst)\n",
        "\n",
        "fnames = ['cat.{}.jpg'.format(i) for i in range(1500, 2000)]\n",
        "for fname in fnames:\n",
        "    src = os.path.join(original_dataset_dir, fname)\n",
        "    dst = os.path.join(test_cats_dir, fname)\n",
        "    shutil.copyfile(src, dst)\n",
        "    \n",
        "fnames = ['dog.{}.jpg'.format(i) for i in range(1000)]\n",
        "for fname in fnames:\n",
        "    src = os.path.join(original_dataset_dir, fname)\n",
        "    dst = os.path.join(train_dogs_dir, fname)\n",
        "    shutil.copyfile(src, dst)\n",
        "\n",
        "fnames = ['dog.{}.jpg'.format(i) for i in range(1000, 1500)]\n",
        "for fname in fnames:\n",
        "    src = os.path.join(original_dataset_dir, fname)\n",
        "    dst = os.path.join(validation_dogs_dir, fname)\n",
        "    shutil.copyfile(src, dst)\n",
        "\n",
        "fnames = ['dog.{}.jpg'.format(i) for i in range(1500, 2000)]\n",
        "for fname in fnames:\n",
        "    src = os.path.join(original_dataset_dir, fname)\n",
        "    dst = os.path.join(test_dogs_dir, fname)\n",
        "    shutil.copyfile(src, dst)"
      ],
      "execution_count": 6,
      "outputs": []
    },
    {
      "cell_type": "code",
      "metadata": {
        "id": "ul3XAbIyr7vC",
        "colab": {
          "base_uri": "https://localhost:8080/"
        },
        "outputId": "bb17e6df-5aa7-4e38-e776-34f06a95a2ab"
      },
      "source": [
        "print('total training cat images:', len(os.listdir(train_cats_dir)))\n",
        "print('total training dog images:', len(os.listdir(train_dogs_dir)))\n",
        "print('total validation cat images:', len(os.listdir(validation_cats_dir)))\n",
        "\n",
        "print('total validation dog images:', len(os.listdir(validation_dogs_dir)))\n",
        "print('total test cat images:', len(os.listdir(test_cats_dir)))\n",
        "print('total test dog images:', len(os.listdir(test_dogs_dir)))"
      ],
      "execution_count": 7,
      "outputs": [
        {
          "output_type": "stream",
          "text": [
            "total training cat images: 1000\n",
            "total training dog images: 1000\n",
            "total validation cat images: 500\n",
            "total validation dog images: 500\n",
            "total test cat images: 500\n",
            "total test dog images: 500\n"
          ],
          "name": "stdout"
        }
      ]
    },
    {
      "cell_type": "code",
      "metadata": {
        "id": "o9yTA21_r-ma",
        "colab": {
          "base_uri": "https://localhost:8080/"
        },
        "outputId": "36310a8e-2c19-45a8-ad56-2d05c4a3d1ea"
      },
      "source": [
        "from keras import layers\n",
        "from keras import models\n",
        "\n",
        "model = models.Sequential()\n",
        "model.add(layers.Conv2D(32, (3, 3), activation='relu', input_shape=(150, 150, 3)))\n",
        "model.add(layers.MaxPooling2D((2, 2)))\n",
        "model.add(layers.Conv2D(64, (3, 3), activation='relu'))\n",
        "model.add(layers.MaxPooling2D((2, 2)))\n",
        "model.add(layers.Conv2D(128, (3, 3), activation='relu'))\n",
        "model.add(layers.MaxPooling2D((2, 2)))\n",
        "model.add(layers.Conv2D(128, (3, 3), activation='relu'))\n",
        "model.add(layers.MaxPooling2D((2, 2)))\n",
        "model.add(layers.Flatten())\n",
        "model.add(layers.Dense(512, activation='relu'))\n",
        "model.add(layers.Dense(1, activation='sigmoid'))\n",
        "model.summary()"
      ],
      "execution_count": 8,
      "outputs": [
        {
          "output_type": "stream",
          "text": [
            "Model: \"sequential\"\n",
            "_________________________________________________________________\n",
            "Layer (type)                 Output Shape              Param #   \n",
            "=================================================================\n",
            "conv2d (Conv2D)              (None, 148, 148, 32)      896       \n",
            "_________________________________________________________________\n",
            "max_pooling2d (MaxPooling2D) (None, 74, 74, 32)        0         \n",
            "_________________________________________________________________\n",
            "conv2d_1 (Conv2D)            (None, 72, 72, 64)        18496     \n",
            "_________________________________________________________________\n",
            "max_pooling2d_1 (MaxPooling2 (None, 36, 36, 64)        0         \n",
            "_________________________________________________________________\n",
            "conv2d_2 (Conv2D)            (None, 34, 34, 128)       73856     \n",
            "_________________________________________________________________\n",
            "max_pooling2d_2 (MaxPooling2 (None, 17, 17, 128)       0         \n",
            "_________________________________________________________________\n",
            "conv2d_3 (Conv2D)            (None, 15, 15, 128)       147584    \n",
            "_________________________________________________________________\n",
            "max_pooling2d_3 (MaxPooling2 (None, 7, 7, 128)         0         \n",
            "_________________________________________________________________\n",
            "flatten (Flatten)            (None, 6272)              0         \n",
            "_________________________________________________________________\n",
            "dense (Dense)                (None, 512)               3211776   \n",
            "_________________________________________________________________\n",
            "dense_1 (Dense)              (None, 1)                 513       \n",
            "=================================================================\n",
            "Total params: 3,453,121\n",
            "Trainable params: 3,453,121\n",
            "Non-trainable params: 0\n",
            "_________________________________________________________________\n"
          ],
          "name": "stdout"
        }
      ]
    },
    {
      "cell_type": "markdown",
      "metadata": {
        "id": "KBfAqcggJeVv"
      },
      "source": [
        ""
      ]
    },
    {
      "cell_type": "code",
      "metadata": {
        "id": "2mG8wekxsBVS",
        "colab": {
          "base_uri": "https://localhost:8080/"
        },
        "outputId": "2ecb13b7-5756-4e9b-9e29-dd42d58f4dff"
      },
      "source": [
        "from keras import optimizers\n",
        "model.compile(loss='binary_crossentropy', \n",
        "              optimizer=optimizers.RMSprop(lr=1e-4),\n",
        "              metrics=['acc'])"
      ],
      "execution_count": 11,
      "outputs": [
        {
          "output_type": "stream",
          "text": [
            "/usr/local/lib/python3.7/dist-packages/tensorflow/python/keras/optimizer_v2/optimizer_v2.py:375: UserWarning: The `lr` argument is deprecated, use `learning_rate` instead.\n",
            "  \"The `lr` argument is deprecated, use `learning_rate` instead.\")\n"
          ],
          "name": "stderr"
        }
      ]
    },
    {
      "cell_type": "markdown",
      "metadata": {
        "id": "7zS4Klm8qWp6"
      },
      "source": [
        "## Data Augumentation: Using ImageDataGenerator to read images from directories\n",
        "As you know by now, data should be formatted into appropriately preprocessed floatingpoint tensors before being fed into the network. Currently, the data sits on a drive as JPEG files, so the steps for getting it into the network are roughly as follows:\n",
        "\n",
        "* Read the picture files.\n",
        "* Decode the JPEG content to RGB grids of pixels.\n",
        "* Convert these into floating-point tensors.\n",
        "* Rescale the pixel values (between 0 and 255) to the [0, 1] interval (as you know, neural networks prefer to deal with small input values).\n",
        "\n",
        "It may seem a bit daunting, but fortunately Keras has utilities to take care of these steps automatically. Keras has a module with image-processing helper tools, located at keras.preprocessing.image. In particular, it contains the class ImageDataGenerator,which lets you quickly set up Python generators that can automatically turn image files on disk into batches of preprocessed tensors."
      ]
    },
    {
      "cell_type": "code",
      "metadata": {
        "id": "XJ7XU7t9sEh6",
        "colab": {
          "base_uri": "https://localhost:8080/"
        },
        "outputId": "fbbccfac-5ca5-45fb-9102-d770fa409c46"
      },
      "source": [
        "from keras.preprocessing.image import ImageDataGenerator\n",
        "\n",
        "train_datagen = ImageDataGenerator(rescale=1./255)\n",
        "test_datagen = ImageDataGenerator(rescale=1./255)\n",
        "\n",
        "train_generator = train_datagen.flow_from_directory(train_dir,\n",
        "                                                    target_size=(150, 150), \n",
        "                                                    batch_size=20,\n",
        "                                                    class_mode='binary')\n",
        "\n",
        "validation_generator = test_datagen.flow_from_directory(validation_dir,\n",
        "                                                        target_size=(150, 150),\n",
        "                                                        batch_size=20,\n",
        "                                                        class_mode='binary')"
      ],
      "execution_count": 12,
      "outputs": [
        {
          "output_type": "stream",
          "text": [
            "Found 2000 images belonging to 2 classes.\n",
            "Found 1000 images belonging to 2 classes.\n"
          ],
          "name": "stdout"
        }
      ]
    },
    {
      "cell_type": "markdown",
      "metadata": {
        "id": "SEgLywySqm4u"
      },
      "source": [
        "Let’s fit the model to the data using the generator. You do so using the fit_generator method, the equivalent of fit for data generators like this one. It expects as its first argument a Python generator that will yield batches of inputs and targets indefinitely,like this one does. Because the data is being generated endlessly, the Keras model needs to know how many samples to draw from the generator before declaring anepoch over. This is the role of the `steps_per_epoch` argument: after having drawn `steps_per_epoch` batches from the generator—that is, after having run for `steps_per_epoch` gradient descent steps—the fitting process will go to the next epoch. In this case, batches are 20 samples, so it will take 100 batches until you see your target of 2,000 samples.\n",
        "\n",
        "When using fit_generator, you can pass a validation_data argument, much as with the fit method. It’s important to note that this argument is allowed to be a data generator, but it could also be a tuple of Numpy arrays. If you pass a generator as validation_data, then this generator is expected to yield batches of validation data endlessly; thus you should also specify the validation_steps argument, which tells the process how many batches to draw from the validation generator for evaluation."
      ]
    },
    {
      "cell_type": "code",
      "metadata": {
        "id": "yMyfPphJsJG6",
        "colab": {
          "base_uri": "https://localhost:8080/"
        },
        "outputId": "d6298e84-6d9f-4d73-ad5e-4913393dec03"
      },
      "source": [
        "history = model.fit_generator(train_generator,\n",
        "                              steps_per_epoch=100,\n",
        "                              epochs=30,\n",
        "                              validation_data=validation_generator,\n",
        "                              validation_steps=10)"
      ],
      "execution_count": 13,
      "outputs": [
        {
          "output_type": "stream",
          "text": [
            "/usr/local/lib/python3.7/dist-packages/keras/engine/training.py:1915: UserWarning: `Model.fit_generator` is deprecated and will be removed in a future version. Please use `Model.fit`, which supports generators.\n",
            "  warnings.warn('`Model.fit_generator` is deprecated and '\n"
          ],
          "name": "stderr"
        },
        {
          "output_type": "stream",
          "text": [
            "Epoch 1/30\n",
            "100/100 [==============================] - 54s 84ms/step - loss: 0.6994 - acc: 0.5031 - val_loss: 0.6797 - val_acc: 0.5750\n",
            "Epoch 2/30\n",
            "100/100 [==============================] - 8s 80ms/step - loss: 0.6638 - acc: 0.6272 - val_loss: 0.6604 - val_acc: 0.5950\n",
            "Epoch 3/30\n",
            "100/100 [==============================] - 8s 80ms/step - loss: 0.6289 - acc: 0.6670 - val_loss: 0.6855 - val_acc: 0.5600\n",
            "Epoch 4/30\n",
            "100/100 [==============================] - 8s 80ms/step - loss: 0.5701 - acc: 0.7007 - val_loss: 0.6327 - val_acc: 0.6500\n",
            "Epoch 5/30\n",
            "100/100 [==============================] - 8s 79ms/step - loss: 0.5352 - acc: 0.7262 - val_loss: 0.6008 - val_acc: 0.6400\n",
            "Epoch 6/30\n",
            "100/100 [==============================] - 8s 80ms/step - loss: 0.4896 - acc: 0.7654 - val_loss: 0.5887 - val_acc: 0.7100\n",
            "Epoch 7/30\n",
            "100/100 [==============================] - 8s 81ms/step - loss: 0.4738 - acc: 0.7779 - val_loss: 0.5825 - val_acc: 0.7100\n",
            "Epoch 8/30\n",
            "100/100 [==============================] - 8s 81ms/step - loss: 0.4243 - acc: 0.8106 - val_loss: 0.5611 - val_acc: 0.7000\n",
            "Epoch 9/30\n",
            "100/100 [==============================] - 8s 79ms/step - loss: 0.4106 - acc: 0.8200 - val_loss: 0.5834 - val_acc: 0.7300\n",
            "Epoch 10/30\n",
            "100/100 [==============================] - 8s 80ms/step - loss: 0.3860 - acc: 0.8225 - val_loss: 0.5491 - val_acc: 0.7300\n",
            "Epoch 11/30\n",
            "100/100 [==============================] - 8s 79ms/step - loss: 0.3699 - acc: 0.8354 - val_loss: 0.6127 - val_acc: 0.6750\n",
            "Epoch 12/30\n",
            "100/100 [==============================] - 8s 80ms/step - loss: 0.3303 - acc: 0.8579 - val_loss: 0.6971 - val_acc: 0.7300\n",
            "Epoch 13/30\n",
            "100/100 [==============================] - 8s 79ms/step - loss: 0.3099 - acc: 0.8705 - val_loss: 0.6190 - val_acc: 0.7300\n",
            "Epoch 14/30\n",
            "100/100 [==============================] - 8s 80ms/step - loss: 0.2568 - acc: 0.9029 - val_loss: 0.6293 - val_acc: 0.7250\n",
            "Epoch 15/30\n",
            "100/100 [==============================] - 8s 81ms/step - loss: 0.2444 - acc: 0.9040 - val_loss: 0.6401 - val_acc: 0.7250\n",
            "Epoch 16/30\n",
            "100/100 [==============================] - 8s 81ms/step - loss: 0.2237 - acc: 0.9137 - val_loss: 0.6820 - val_acc: 0.7350\n",
            "Epoch 17/30\n",
            "100/100 [==============================] - 8s 80ms/step - loss: 0.1957 - acc: 0.9305 - val_loss: 0.8200 - val_acc: 0.6700\n",
            "Epoch 18/30\n",
            "100/100 [==============================] - 8s 80ms/step - loss: 0.1831 - acc: 0.9412 - val_loss: 0.6390 - val_acc: 0.7100\n",
            "Epoch 19/30\n",
            "100/100 [==============================] - 8s 79ms/step - loss: 0.1537 - acc: 0.9518 - val_loss: 0.9206 - val_acc: 0.6650\n",
            "Epoch 20/30\n",
            "100/100 [==============================] - 8s 78ms/step - loss: 0.1293 - acc: 0.9593 - val_loss: 0.7856 - val_acc: 0.7400\n",
            "Epoch 21/30\n",
            "100/100 [==============================] - 8s 79ms/step - loss: 0.1114 - acc: 0.9650 - val_loss: 0.7633 - val_acc: 0.7050\n",
            "Epoch 22/30\n",
            "100/100 [==============================] - 8s 80ms/step - loss: 0.0908 - acc: 0.9763 - val_loss: 0.8096 - val_acc: 0.7100\n",
            "Epoch 23/30\n",
            "100/100 [==============================] - 8s 81ms/step - loss: 0.0789 - acc: 0.9794 - val_loss: 0.9661 - val_acc: 0.6850\n",
            "Epoch 24/30\n",
            "100/100 [==============================] - 8s 81ms/step - loss: 0.0840 - acc: 0.9764 - val_loss: 1.0211 - val_acc: 0.6700\n",
            "Epoch 25/30\n",
            "100/100 [==============================] - 8s 80ms/step - loss: 0.0552 - acc: 0.9872 - val_loss: 0.7757 - val_acc: 0.7100\n",
            "Epoch 26/30\n",
            "100/100 [==============================] - 8s 80ms/step - loss: 0.0415 - acc: 0.9908 - val_loss: 1.1239 - val_acc: 0.7200\n",
            "Epoch 27/30\n",
            "100/100 [==============================] - 8s 79ms/step - loss: 0.0357 - acc: 0.9947 - val_loss: 1.0086 - val_acc: 0.7200\n",
            "Epoch 28/30\n",
            "100/100 [==============================] - 8s 79ms/step - loss: 0.0347 - acc: 0.9933 - val_loss: 0.9513 - val_acc: 0.7250\n",
            "Epoch 29/30\n",
            "100/100 [==============================] - 8s 79ms/step - loss: 0.0241 - acc: 0.9957 - val_loss: 1.0829 - val_acc: 0.7250\n",
            "Epoch 30/30\n",
            "100/100 [==============================] - 8s 79ms/step - loss: 0.0261 - acc: 0.9943 - val_loss: 1.6323 - val_acc: 0.6750\n"
          ],
          "name": "stdout"
        }
      ]
    },
    {
      "cell_type": "code",
      "metadata": {
        "id": "MZaZ2HWZsNUi",
        "colab": {
          "base_uri": "https://localhost:8080/",
          "height": 545
        },
        "outputId": "b04519c4-11cf-4658-d2d4-19d01c183867"
      },
      "source": [
        "model.save('cats_and_dogs_small_1.h5')\n",
        "\n",
        "import matplotlib.pyplot as plt\n",
        "\n",
        "acc = history.history['acc']\n",
        "val_acc = history.history['val_acc']\n",
        "loss = history.history['loss']\n",
        "val_loss = history.history['val_loss']\n",
        "\n",
        "epochs = range(1, len(acc) + 1)\n",
        "\n",
        "plt.plot(epochs, acc, 'bo', label='Training acc')\n",
        "plt.plot(epochs, val_acc, 'b', label='Validation acc')\n",
        "plt.title('Training and validation accuracy')\n",
        "plt.legend()\n",
        "\n",
        "plt.figure()\n",
        "\n",
        "plt.plot(epochs, loss, 'bo', label='Training loss')\n",
        "plt.plot(epochs, val_loss, 'b', label='Validation loss')\n",
        "plt.title('Training and validation loss')\n",
        "plt.legend()\n",
        "\n",
        "plt.show()"
      ],
      "execution_count": 14,
      "outputs": [
        {
          "output_type": "display_data",
          "data": {
            "image/png": "[encoded data removed]",
            "text/plain": [
              "<Figure size 432x288 with 1 Axes>"
            ]
          },
          "metadata": {
            "tags": [],
            "needs_background": "light"
          }
        },
        {
          "output_type": "display_data",
          "data": {
            "image/png": "[encoded data removed]",
            "text/plain": [
              "<Figure size 432x288 with 1 Axes>"
            ]
          },
          "metadata": {
            "tags": [],
            "needs_background": "light"
          }
        }
      ]
    },
    {
      "cell_type": "markdown",
      "metadata": {
        "id": "XKZmXmBcq_8-"
      },
      "source": [
        "## Convolutional Networks with Dropout\n",
        "\n",
        "![alt text](https://camo.githubusercontent.com/ee6fa1073247cd2c3d241300caf110d7a7541bc5/68747470733a2f2f63646e2d696d616765732d312e6d656469756d2e636f6d2f6d61782f3830302f312a4972644a355067684439596f4f7956415137334d4a772e676966)\n",
        "\n",
        "Ref: https://github.com/mneha4/Training-Neural-Nets---Guidelines"
      ]
    },
    {
      "cell_type": "code",
      "metadata": {
        "id": "wu3cqeYQrDeN",
        "colab": {
          "base_uri": "https://localhost:8080/"
        },
        "outputId": "5ae37ddf-abe5-4772-c418-93b793c5ddc8"
      },
      "source": [
        "model = models.Sequential()\n",
        "model.add(layers.Conv2D(32, (3, 3), activation='relu',\n",
        "input_shape=(150, 150, 3)))\n",
        "model.add(layers.MaxPooling2D((2, 2)))\n",
        "model.add(layers.Conv2D(64, (3, 3), activation='relu'))\n",
        "model.add(layers.MaxPooling2D((2, 2)))\n",
        "model.add(layers.Conv2D(128, (3, 3), activation='relu'))\n",
        "model.add(layers.MaxPooling2D((2, 2)))\n",
        "model.add(layers.Conv2D(128, (3, 3), activation='relu'))\n",
        "model.add(layers.MaxPooling2D((2, 2)))\n",
        "model.add(layers.Flatten())\n",
        "model.add(layers.Dropout(0.5)) # Dropout\n",
        "model.add(layers.Dense(512, activation='relu'))\n",
        "model.add(layers.Dense(1, activation='sigmoid'))\n",
        "\n",
        "model.compile(loss='binary_crossentropy',\n",
        "              optimizer=optimizers.RMSprop(lr=1e-4),\n",
        "              metrics=['acc'])"
      ],
      "execution_count": 15,
      "outputs": [
        {
          "output_type": "stream",
          "text": [
            "/usr/local/lib/python3.7/dist-packages/tensorflow/python/keras/optimizer_v2/optimizer_v2.py:375: UserWarning: The `lr` argument is deprecated, use `learning_rate` instead.\n",
            "  \"The `lr` argument is deprecated, use `learning_rate` instead.\")\n"
          ],
          "name": "stderr"
        }
      ]
    },
    {
      "cell_type": "code",
      "metadata": {
        "id": "QSeLpvY0rH7F",
        "colab": {
          "base_uri": "https://localhost:8080/"
        },
        "outputId": "53f219cf-6004-473c-8022-b35b434b083c"
      },
      "source": [
        "\n",
        "train_datagen = ImageDataGenerator(rescale=1./255,\n",
        "                                   rotation_range=40,\n",
        "                                   width_shift_range=0.2,\n",
        "                                   height_shift_range=0.2,\n",
        "                                   shear_range=0.2,\n",
        "                                   zoom_range=0.2,\n",
        "                                   horizontal_flip=True,)\n",
        "\n",
        "test_datagen = ImageDataGenerator(rescale=1./255)\n",
        "\n",
        "train_generator = train_datagen.flow_from_directory(train_dir,\n",
        "                                                    target_size=(150, 150),\n",
        "                                                    batch_size=20,\n",
        "                                                    class_mode='binary')\n",
        "\n",
        "validation_generator = test_datagen.flow_from_directory(validation_dir,\n",
        "                                                        target_size=(150, 150),\n",
        "                                                        batch_size=20,\n",
        "                                                        class_mode='binary')\n",
        "\n",
        "history = model.fit_generator(train_generator,\n",
        "                              steps_per_epoch=100,\n",
        "                              epochs=20,\n",
        "                              validation_data=validation_generator,\n",
        "                              validation_steps=50)"
      ],
      "execution_count": 18,
      "outputs": [
        {
          "output_type": "stream",
          "text": [
            "Found 2000 images belonging to 2 classes.\n",
            "Found 1000 images belonging to 2 classes.\n"
          ],
          "name": "stdout"
        },
        {
          "output_type": "stream",
          "text": [
            "/usr/local/lib/python3.7/dist-packages/keras/engine/training.py:1915: UserWarning: `Model.fit_generator` is deprecated and will be removed in a future version. Please use `Model.fit`, which supports generators.\n",
            "  warnings.warn('`Model.fit_generator` is deprecated and '\n"
          ],
          "name": "stderr"
        },
        {
          "output_type": "stream",
          "text": [
            "Epoch 1/20\n",
            "100/100 [==============================] - 19s 193ms/step - loss: 0.6695 - acc: 0.5875 - val_loss: 0.6633 - val_acc: 0.5870\n",
            "Epoch 2/20\n",
            "100/100 [==============================] - 19s 190ms/step - loss: 0.6634 - acc: 0.5830 - val_loss: 0.6395 - val_acc: 0.6290\n",
            "Epoch 3/20\n",
            "100/100 [==============================] - 19s 193ms/step - loss: 0.6480 - acc: 0.6215 - val_loss: 0.8204 - val_acc: 0.5140\n",
            "Epoch 4/20\n",
            "100/100 [==============================] - 19s 194ms/step - loss: 0.6394 - acc: 0.6175 - val_loss: 0.6381 - val_acc: 0.6210\n",
            "Epoch 5/20\n",
            "100/100 [==============================] - 19s 191ms/step - loss: 0.6262 - acc: 0.6280 - val_loss: 0.6161 - val_acc: 0.6640\n",
            "Epoch 6/20\n",
            "100/100 [==============================] - 19s 193ms/step - loss: 0.6169 - acc: 0.6510 - val_loss: 0.6266 - val_acc: 0.6240\n",
            "Epoch 7/20\n",
            "100/100 [==============================] - 20s 200ms/step - loss: 0.6089 - acc: 0.6715 - val_loss: 0.6579 - val_acc: 0.6000\n",
            "Epoch 8/20\n",
            "100/100 [==============================] - 20s 197ms/step - loss: 0.6012 - acc: 0.6745 - val_loss: 0.5820 - val_acc: 0.6900\n",
            "Epoch 9/20\n",
            "100/100 [==============================] - 20s 196ms/step - loss: 0.5981 - acc: 0.6765 - val_loss: 0.5795 - val_acc: 0.6860\n",
            "Epoch 10/20\n",
            "100/100 [==============================] - 20s 199ms/step - loss: 0.5956 - acc: 0.6790 - val_loss: 0.5599 - val_acc: 0.7040\n",
            "Epoch 11/20\n",
            "100/100 [==============================] - 20s 200ms/step - loss: 0.5802 - acc: 0.7005 - val_loss: 0.5865 - val_acc: 0.6840\n",
            "Epoch 12/20\n",
            "100/100 [==============================] - 19s 194ms/step - loss: 0.5713 - acc: 0.6975 - val_loss: 0.6511 - val_acc: 0.6390\n",
            "Epoch 13/20\n",
            "100/100 [==============================] - 20s 195ms/step - loss: 0.5743 - acc: 0.6935 - val_loss: 0.5731 - val_acc: 0.6890\n",
            "Epoch 14/20\n",
            "100/100 [==============================] - 20s 195ms/step - loss: 0.5605 - acc: 0.7010 - val_loss: 0.5439 - val_acc: 0.7120\n",
            "Epoch 15/20\n",
            "100/100 [==============================] - 19s 192ms/step - loss: 0.5584 - acc: 0.7075 - val_loss: 0.6170 - val_acc: 0.6570\n",
            "Epoch 17/20\n",
            "100/100 [==============================] - 19s 190ms/step - loss: 0.5546 - acc: 0.7155 - val_loss: 0.5662 - val_acc: 0.7040\n",
            "Epoch 18/20\n",
            "100/100 [==============================] - 20s 195ms/step - loss: 0.5517 - acc: 0.7110 - val_loss: 0.5277 - val_acc: 0.7250\n",
            "Epoch 19/20\n",
            "100/100 [==============================] - 20s 200ms/step - loss: 0.5573 - acc: 0.7225 - val_loss: 0.5225 - val_acc: 0.7280\n",
            "Epoch 20/20\n",
            "100/100 [==============================] - 19s 194ms/step - loss: 0.5568 - acc: 0.7170 - val_loss: 0.5721 - val_acc: 0.6930\n"
          ],
          "name": "stdout"
        }
      ]
    },
    {
      "cell_type": "code",
      "metadata": {
        "id": "CLdtek5WO5CV",
        "outputId": "470fce11-9c6a-40a8-be51-90f0adb21e08",
        "colab": {
          "base_uri": "https://localhost:8080/",
          "height": 545
        }
      },
      "source": [
        "import matplotlib.pyplot as plt\n",
        "\n",
        "acc = history.history['acc']\n",
        "val_acc = history.history['val_acc']\n",
        "loss = history.history['loss']\n",
        "val_loss = history.history['val_loss']\n",
        "\n",
        "epochs = range(1, len(acc) + 1)\n",
        "\n",
        "plt.plot(epochs, acc, 'bo', label='Training acc')\n",
        "plt.plot(epochs, val_acc, 'b', label='Validation acc')\n",
        "plt.title('Training and validation accuracy')\n",
        "plt.legend()\n",
        "\n",
        "plt.figure()\n",
        "\n",
        "plt.plot(epochs, loss, 'bo', label='Training loss')\n",
        "plt.plot(epochs, val_loss, 'b', label='Validation loss')\n",
        "plt.title('Training and validation loss')\n",
        "plt.legend()\n",
        "\n",
        "plt.show()"
      ],
      "execution_count": 19,
      "outputs": [
        {
          "output_type": "display_data",
          "data": {
            "image/png": "[encoded data removed]",
            "text/plain": [
              "<Figure size 432x288 with 1 Axes>"
            ]
          },
          "metadata": {
            "tags": [],
            "needs_background": "light"
          }
        },
        {
          "output_type": "display_data",
          "data": {
            "image/png": "[encoded data removed]",
            "text/plain": [
              "<Figure size 432x288 with 1 Axes>"
            ]
          },
          "metadata": {
            "tags": [],
            "needs_background": "light"
          }
        }
      ]
    },
    {
      "cell_type": "markdown",
      "metadata": {
        "id": "BRdU5yrkUF_b"
      },
      "source": [
        "# Task 2:\n",
        "\n",
        "We have used Dropout to enhance the performance of the CNN model. Can you please use whatever you like to further enhance the performance from `val_acc: 0.7506`? "
      ]
    }
  ]
}