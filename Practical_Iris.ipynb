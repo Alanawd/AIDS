{
  "nbformat": 4,
  "nbformat_minor": 0,
  "metadata": {
    "colab": {
      "name": "Practical_Iris.ipynb",
      "provenance": [],
      "include_colab_link": true
    },
    "kernelspec": {
      "name": "python3",
      "display_name": "Python 3"
    },
    "language_info": {
      "name": "python"
    }
  },
  "cells": [
    {
      "cell_type": "markdown",
      "metadata": {
        "id": "view-in-github",
        "colab_type": "text"
      },
      "source": [
        "<a href=\"https://colab.research.google.com/github/Alanawd/AIDS/blob/main/Practical_Iris.ipynb\" target=\"_parent\"><img src=\"https://colab.research.google.com/assets/colab-badge.svg\" alt=\"Open In Colab\"/></a>"
      ]
    },
    {
      "cell_type": "code",
      "metadata": {
        "id": "-wm3qXZPd9ts",
        "colab": {
          "base_uri": "https://localhost:8080/"
        },
        "outputId": "95b11d2b-cabc-40e2-81c9-83d16aaac177"
      },
      "source": [
        "# packages\n",
        "!pip install lime\n",
        "!pip install graphviz\n",
        "!pip install pydotplus"
      ],
      "execution_count": 1,
      "outputs": [
        {
          "output_type": "stream",
          "text": [
            "Collecting lime\n",
            "  Downloading lime-0.2.0.1.tar.gz (275 kB)\n",
            "\u001b[?25l\r\u001b[K     |█▏                              | 10 kB 17.6 MB/s eta 0:00:01\r\u001b[K     |██▍                             | 20 kB 18.1 MB/s eta 0:00:01\r\u001b[K     |███▋                            | 30 kB 21.1 MB/s eta 0:00:01\r\u001b[K     |████▊                           | 40 kB 22.8 MB/s eta 0:00:01\r\u001b[K     |██████                          | 51 kB 25.1 MB/s eta 0:00:01\r\u001b[K     |███████▏                        | 61 kB 26.8 MB/s eta 0:00:01\r\u001b[K     |████████▎                       | 71 kB 27.0 MB/s eta 0:00:01\r\u001b[K     |█████████▌                      | 81 kB 28.3 MB/s eta 0:00:01\r\u001b[K     |██████████▊                     | 92 kB 29.0 MB/s eta 0:00:01\r\u001b[K     |███████████▉                    | 102 kB 30.6 MB/s eta 0:00:01\r\u001b[K     |█████████████                   | 112 kB 30.6 MB/s eta 0:00:01\r\u001b[K     |██████████████▎                 | 122 kB 30.6 MB/s eta 0:00:01\r\u001b[K     |███████████████▌                | 133 kB 30.6 MB/s eta 0:00:01\r\u001b[K     |████████████████▋               | 143 kB 30.6 MB/s eta 0:00:01\r\u001b[K     |█████████████████▉              | 153 kB 30.6 MB/s eta 0:00:01\r\u001b[K     |███████████████████             | 163 kB 30.6 MB/s eta 0:00:01\r\u001b[K     |████████████████████▏           | 174 kB 30.6 MB/s eta 0:00:01\r\u001b[K     |█████████████████████▍          | 184 kB 30.6 MB/s eta 0:00:01\r\u001b[K     |██████████████████████▋         | 194 kB 30.6 MB/s eta 0:00:01\r\u001b[K     |███████████████████████▊        | 204 kB 30.6 MB/s eta 0:00:01\r\u001b[K     |█████████████████████████       | 215 kB 30.6 MB/s eta 0:00:01\r\u001b[K     |██████████████████████████▏     | 225 kB 30.6 MB/s eta 0:00:01\r\u001b[K     |███████████████████████████▍    | 235 kB 30.6 MB/s eta 0:00:01\r\u001b[K     |████████████████████████████▌   | 245 kB 30.6 MB/s eta 0:00:01\r\u001b[K     |█████████████████████████████▊  | 256 kB 30.6 MB/s eta 0:00:01\r\u001b[K     |███████████████████████████████ | 266 kB 30.6 MB/s eta 0:00:01\r\u001b[K     |████████████████████████████████| 275 kB 30.6 MB/s \n",
            "\u001b[?25hRequirement already satisfied: matplotlib in /usr/local/lib/python3.7/dist-packages (from lime) (3.2.2)\n",
            "Requirement already satisfied: numpy in /usr/local/lib/python3.7/dist-packages (from lime) (1.19.5)\n",
            "Requirement already satisfied: scipy in /usr/local/lib/python3.7/dist-packages (from lime) (1.4.1)\n",
            "Requirement already satisfied: tqdm in /usr/local/lib/python3.7/dist-packages (from lime) (4.41.1)\n",
            "Requirement already satisfied: scikit-learn>=0.18 in /usr/local/lib/python3.7/dist-packages (from lime) (0.22.2.post1)\n",
            "Requirement already satisfied: scikit-image>=0.12 in /usr/local/lib/python3.7/dist-packages (from lime) (0.16.2)\n",
            "Requirement already satisfied: imageio>=2.3.0 in /usr/local/lib/python3.7/dist-packages (from scikit-image>=0.12->lime) (2.4.1)\n",
            "Requirement already satisfied: networkx>=2.0 in /usr/local/lib/python3.7/dist-packages (from scikit-image>=0.12->lime) (2.5.1)\n",
            "Requirement already satisfied: PyWavelets>=0.4.0 in /usr/local/lib/python3.7/dist-packages (from scikit-image>=0.12->lime) (1.1.1)\n",
            "Requirement already satisfied: pillow>=4.3.0 in /usr/local/lib/python3.7/dist-packages (from scikit-image>=0.12->lime) (7.1.2)\n",
            "Requirement already satisfied: python-dateutil>=2.1 in /usr/local/lib/python3.7/dist-packages (from matplotlib->lime) (2.8.1)\n",
            "Requirement already satisfied: cycler>=0.10 in /usr/local/lib/python3.7/dist-packages (from matplotlib->lime) (0.10.0)\n",
            "Requirement already satisfied: kiwisolver>=1.0.1 in /usr/local/lib/python3.7/dist-packages (from matplotlib->lime) (1.3.1)\n",
            "Requirement already satisfied: pyparsing!=2.0.4,!=2.1.2,!=2.1.6,>=2.0.1 in /usr/local/lib/python3.7/dist-packages (from matplotlib->lime) (2.4.7)\n",
            "Requirement already satisfied: six in /usr/local/lib/python3.7/dist-packages (from cycler>=0.10->matplotlib->lime) (1.15.0)\n",
            "Requirement already satisfied: decorator<5,>=4.3 in /usr/local/lib/python3.7/dist-packages (from networkx>=2.0->scikit-image>=0.12->lime) (4.4.2)\n",
            "Requirement already satisfied: joblib>=0.11 in /usr/local/lib/python3.7/dist-packages (from scikit-learn>=0.18->lime) (1.0.1)\n",
            "Building wheels for collected packages: lime\n",
            "  Building wheel for lime (setup.py) ... \u001b[?25l\u001b[?25hdone\n",
            "  Created wheel for lime: filename=lime-0.2.0.1-py3-none-any.whl size=283857 sha256=559656e2f321b93dfb0f13173fee04abfe19c416462555a33f2acf3dc68bdf68\n",
            "  Stored in directory: /root/.cache/pip/wheels/ca/cb/e5/ac701e12d365a08917bf4c6171c0961bc880a8181359c66aa7\n",
            "Successfully built lime\n",
            "Installing collected packages: lime\n",
            "Successfully installed lime-0.2.0.1\n",
            "Requirement already satisfied: graphviz in /usr/local/lib/python3.7/dist-packages (0.10.1)\n",
            "Requirement already satisfied: pydotplus in /usr/local/lib/python3.7/dist-packages (2.0.2)\n",
            "Requirement already satisfied: pyparsing>=2.0.1 in /usr/local/lib/python3.7/dist-packages (from pydotplus) (2.4.7)\n"
          ],
          "name": "stdout"
        }
      ]
    },
    {
      "cell_type": "code",
      "metadata": {
        "id": "HmlozMWIi6Tc",
        "colab": {
          "base_uri": "https://localhost:8080/"
        },
        "outputId": "ecc235f6-f440-4467-82dc-8b6734ca21d9"
      },
      "source": [
        "# imports\n",
        "from sklearn.datasets import load_iris\n",
        "from sklearn.model_selection import train_test_split\n",
        "from sklearn.tree import DecisionTreeClassifier\n",
        "from sklearn.ensemble import RandomForestClassifier\n",
        "from sklearn import metrics\n",
        "from sklearn.metrics import classification_report\n",
        "from sklearn.metrics import confusion_matrix\n",
        "from sklearn.metrics import accuracy_score\n",
        "from sklearn.svm import SVC\n",
        "from sklearn import tree\n",
        "from sklearn.tree import export_graphviz\n",
        "from sklearn.externals.six import StringIO  \n",
        "\n",
        "from IPython.display import Image  \n",
        "import pydotplus\n",
        "\n",
        "from collections import Counter\n",
        "import pandas as pd\n",
        "import numpy as np\n",
        "\n",
        "import lime\n",
        "import lime.lime_tabular\n",
        "from __future__ import print_function\n",
        "np.random.seed(1)\n"
      ],
      "execution_count": 2,
      "outputs": [
        {
          "output_type": "stream",
          "text": [
            "/usr/local/lib/python3.7/dist-packages/sklearn/externals/six.py:31: FutureWarning: The module is deprecated in version 0.21 and will be removed in version 0.23 since we've dropped support for Python 2.7. Please rely on the official version of six (https://pypi.org/project/six/).\n",
            "  \"(https://pypi.org/project/six/).\", FutureWarning)\n"
          ],
          "name": "stderr"
        }
      ]
    },
    {
      "cell_type": "markdown",
      "metadata": {
        "id": "_3rs26afjGPV"
      },
      "source": [
        "# Decision Tree"
      ]
    },
    {
      "cell_type": "code",
      "metadata": {
        "id": "Od_n6jbTjIfA",
        "colab": {
          "base_uri": "https://localhost:8080/",
          "height": 206
        },
        "outputId": "99af3780-d659-4845-a20c-45e040e837b2"
      },
      "source": [
        "d = load_iris()\n",
        "data = pd.DataFrame(data=d.data, columns=d.feature_names)\n",
        "data.head()"
      ],
      "execution_count": 3,
      "outputs": [
        {
          "output_type": "execute_result",
          "data": {
            "text/html": [
              "<div>\n",
              "<style scoped>\n",
              "    .dataframe tbody tr th:only-of-type {\n",
              "        vertical-align: middle;\n",
              "    }\n",
              "\n",
              "    .dataframe tbody tr th {\n",
              "        vertical-align: top;\n",
              "    }\n",
              "\n",
              "    .dataframe thead th {\n",
              "        text-align: right;\n",
              "    }\n",
              "</style>\n",
              "<table border=\"1\" class=\"dataframe\">\n",
              "  <thead>\n",
              "    <tr style=\"text-align: right;\">\n",
              "      <th></th>\n",
              "      <th>sepal length (cm)</th>\n",
              "      <th>sepal width (cm)</th>\n",
              "      <th>petal length (cm)</th>\n",
              "      <th>petal width (cm)</th>\n",
              "    </tr>\n",
              "  </thead>\n",
              "  <tbody>\n",
              "    <tr>\n",
              "      <th>0</th>\n",
              "      <td>5.1</td>\n",
              "      <td>3.5</td>\n",
              "      <td>1.4</td>\n",
              "      <td>0.2</td>\n",
              "    </tr>\n",
              "    <tr>\n",
              "      <th>1</th>\n",
              "      <td>4.9</td>\n",
              "      <td>3.0</td>\n",
              "      <td>1.4</td>\n",
              "      <td>0.2</td>\n",
              "    </tr>\n",
              "    <tr>\n",
              "      <th>2</th>\n",
              "      <td>4.7</td>\n",
              "      <td>3.2</td>\n",
              "      <td>1.3</td>\n",
              "      <td>0.2</td>\n",
              "    </tr>\n",
              "    <tr>\n",
              "      <th>3</th>\n",
              "      <td>4.6</td>\n",
              "      <td>3.1</td>\n",
              "      <td>1.5</td>\n",
              "      <td>0.2</td>\n",
              "    </tr>\n",
              "    <tr>\n",
              "      <th>4</th>\n",
              "      <td>5.0</td>\n",
              "      <td>3.6</td>\n",
              "      <td>1.4</td>\n",
              "      <td>0.2</td>\n",
              "    </tr>\n",
              "  </tbody>\n",
              "</table>\n",
              "</div>"
            ],
            "text/plain": [
              "   sepal length (cm)  sepal width (cm)  petal length (cm)  petal width (cm)\n",
              "0                5.1               3.5                1.4               0.2\n",
              "1                4.9               3.0                1.4               0.2\n",
              "2                4.7               3.2                1.3               0.2\n",
              "3                4.6               3.1                1.5               0.2\n",
              "4                5.0               3.6                1.4               0.2"
            ]
          },
          "metadata": {
            "tags": []
          },
          "execution_count": 3
        }
      ]
    },
    {
      "cell_type": "code",
      "metadata": {
        "id": "X25O3Nj4jOlZ",
        "colab": {
          "base_uri": "https://localhost:8080/"
        },
        "outputId": "8d862fea-6a5d-47e2-d540-edaa6a42c1fc"
      },
      "source": [
        "labels = [d.target_names[v] for v in d.target]\n",
        "Counter(labels)"
      ],
      "execution_count": 4,
      "outputs": [
        {
          "output_type": "execute_result",
          "data": {
            "text/plain": [
              "Counter({'setosa': 50, 'versicolor': 50, 'virginica': 50})"
            ]
          },
          "metadata": {
            "tags": []
          },
          "execution_count": 4
        }
      ]
    },
    {
      "cell_type": "code",
      "metadata": {
        "id": "VbAOH5X4jQY6",
        "colab": {
          "base_uri": "https://localhost:8080/"
        },
        "outputId": "990a107f-bbec-4875-930f-38b242180d25"
      },
      "source": [
        "col_names = d.feature_names\n",
        "col_names"
      ],
      "execution_count": 5,
      "outputs": [
        {
          "output_type": "execute_result",
          "data": {
            "text/plain": [
              "['sepal length (cm)',\n",
              " 'sepal width (cm)',\n",
              " 'petal length (cm)',\n",
              " 'petal width (cm)']"
            ]
          },
          "metadata": {
            "tags": []
          },
          "execution_count": 5
        }
      ]
    },
    {
      "cell_type": "markdown",
      "metadata": {
        "id": "WB8WlsuosM-Q"
      },
      "source": [
        "# **Practical 1**"
      ]
    },
    {
      "cell_type": "markdown",
      "metadata": {
        "id": "G9DbDvreozYs"
      },
      "source": [
        "## Decision Tree"
      ]
    },
    {
      "cell_type": "code",
      "metadata": {
        "id": "zdecSCP8nnkD"
      },
      "source": [
        "# TODO: split the dataset into training and testing sets\u000b"
      ],
      "execution_count": 6,
      "outputs": []
    },
    {
      "cell_type": "code",
      "metadata": {
        "id": "mIDrOrCqnybX"
      },
      "source": [
        "# TODO: implement a DecisionTreeClassifier (check its documentation page from sklearn)"
      ],
      "execution_count": 7,
      "outputs": []
    },
    {
      "cell_type": "code",
      "metadata": {
        "id": "FDveYR4ioBi_"
      },
      "source": [
        "# TODO: compute model accuracy on the testing set"
      ],
      "execution_count": 8,
      "outputs": []
    },
    {
      "cell_type": "code",
      "metadata": {
        "id": "Z_EstaTkofBu",
        "colab": {
          "base_uri": "https://localhost:8080/",
          "height": 235
        },
        "outputId": "be45d1d1-7826-4974-f873-c781f3bd8930"
      },
      "source": [
        "# visualise the tree\n",
        "# clf is the classifier - replace with the variable name of your classifier\n",
        "dot_data = StringIO()\n",
        "export_graphviz(clf, out_file=dot_data,  \n",
        "                filled=True, rounded=True,\n",
        "                special_characters=True,feature_names = col_names, \n",
        "                class_names=['setosa', 'versicolour', 'virginica'])\n",
        "graph = pydotplus.graph_from_dot_data(dot_data.getvalue())  \n",
        "graph.write_png('iris.png')\n",
        "Image(graph.create_png())"
      ],
      "execution_count": 9,
      "outputs": [
        {
          "output_type": "error",
          "ename": "NameError",
          "evalue": "ignored",
          "traceback": [
            "\u001b[0;31m---------------------------------------------------------------------------\u001b[0m",
            "\u001b[0;31mNameError\u001b[0m                                 Traceback (most recent call last)",
            "\u001b[0;32m<ipython-input-9-ba4aa0e12abe>\u001b[0m in \u001b[0;36m<module>\u001b[0;34m()\u001b[0m\n\u001b[1;32m      2\u001b[0m \u001b[0;31m# clf is the classifier - replace with the variable name of your classifier\u001b[0m\u001b[0;34m\u001b[0m\u001b[0;34m\u001b[0m\u001b[0;34m\u001b[0m\u001b[0m\n\u001b[1;32m      3\u001b[0m \u001b[0mdot_data\u001b[0m \u001b[0;34m=\u001b[0m \u001b[0mStringIO\u001b[0m\u001b[0;34m(\u001b[0m\u001b[0;34m)\u001b[0m\u001b[0;34m\u001b[0m\u001b[0;34m\u001b[0m\u001b[0m\n\u001b[0;32m----> 4\u001b[0;31m export_graphviz(clf, out_file=dot_data,  \n\u001b[0m\u001b[1;32m      5\u001b[0m                 \u001b[0mfilled\u001b[0m\u001b[0;34m=\u001b[0m\u001b[0;32mTrue\u001b[0m\u001b[0;34m,\u001b[0m \u001b[0mrounded\u001b[0m\u001b[0;34m=\u001b[0m\u001b[0;32mTrue\u001b[0m\u001b[0;34m,\u001b[0m\u001b[0;34m\u001b[0m\u001b[0;34m\u001b[0m\u001b[0m\n\u001b[1;32m      6\u001b[0m                 \u001b[0mspecial_characters\u001b[0m\u001b[0;34m=\u001b[0m\u001b[0;32mTrue\u001b[0m\u001b[0;34m,\u001b[0m\u001b[0mfeature_names\u001b[0m \u001b[0;34m=\u001b[0m \u001b[0mcol_names\u001b[0m\u001b[0;34m,\u001b[0m\u001b[0;34m\u001b[0m\u001b[0;34m\u001b[0m\u001b[0m\n",
            "\u001b[0;31mNameError\u001b[0m: name 'clf' is not defined"
          ]
        }
      ]
    },
    {
      "cell_type": "markdown",
      "metadata": {
        "id": "bHOm-WDnsTv2"
      },
      "source": [
        "# **Practical 2**"
      ]
    },
    {
      "cell_type": "markdown",
      "metadata": {
        "id": "Fz2b7xMgo4Gp"
      },
      "source": [
        "## SVM"
      ]
    },
    {
      "cell_type": "code",
      "metadata": {
        "id": "cEnyFxaJo6Qp"
      },
      "source": [
        "# implement SVM (check documentation of SVC from sklearn)"
      ],
      "execution_count": 10,
      "outputs": []
    },
    {
      "cell_type": "markdown",
      "metadata": {
        "id": "MRmCrd2srCZn"
      },
      "source": [
        "## Feature pertubation"
      ]
    },
    {
      "cell_type": "code",
      "metadata": {
        "id": "GoYtQEtfrGSv",
        "colab": {
          "base_uri": "https://localhost:8080/",
          "height": 235
        },
        "outputId": "b8165ce3-9365-49bf-9811-1569b97bbcf9"
      },
      "source": [
        "# select an instance \n",
        "i = 10\n",
        "\n",
        "# make a copy of the existing data point so we can modify it without altering our data\n",
        "temp = test[i].copy()\n",
        "\n",
        "# get the indices of the features: sepal length (cm);\tsepal width (cm);\tpetal length (cm);\tpetal width (cm)\n",
        "feature_index = lambda x: iris.feature_names.index(x)"
      ],
      "execution_count": 11,
      "outputs": [
        {
          "output_type": "error",
          "ename": "NameError",
          "evalue": "ignored",
          "traceback": [
            "\u001b[0;31m---------------------------------------------------------------------------\u001b[0m",
            "\u001b[0;31mNameError\u001b[0m                                 Traceback (most recent call last)",
            "\u001b[0;32m<ipython-input-11-d9d3ac92c2c8>\u001b[0m in \u001b[0;36m<module>\u001b[0;34m()\u001b[0m\n\u001b[1;32m      3\u001b[0m \u001b[0;34m\u001b[0m\u001b[0m\n\u001b[1;32m      4\u001b[0m \u001b[0;31m# make a copy of the existing data point so we can modify it without altering our data\u001b[0m\u001b[0;34m\u001b[0m\u001b[0;34m\u001b[0m\u001b[0;34m\u001b[0m\u001b[0m\n\u001b[0;32m----> 5\u001b[0;31m \u001b[0mtemp\u001b[0m \u001b[0;34m=\u001b[0m \u001b[0mtest\u001b[0m\u001b[0;34m[\u001b[0m\u001b[0mi\u001b[0m\u001b[0;34m]\u001b[0m\u001b[0;34m.\u001b[0m\u001b[0mcopy\u001b[0m\u001b[0;34m(\u001b[0m\u001b[0;34m)\u001b[0m\u001b[0;34m\u001b[0m\u001b[0;34m\u001b[0m\u001b[0m\n\u001b[0m\u001b[1;32m      6\u001b[0m \u001b[0;34m\u001b[0m\u001b[0m\n\u001b[1;32m      7\u001b[0m \u001b[0;31m# get the indices of the features: sepal length (cm);   sepal width (cm);       petal length (cm);      petal width (cm)\u001b[0m\u001b[0;34m\u001b[0m\u001b[0;34m\u001b[0m\u001b[0;34m\u001b[0m\u001b[0m\n",
            "\u001b[0;31mNameError\u001b[0m: name 'test' is not defined"
          ]
        }
      ]
    },
    {
      "cell_type": "code",
      "metadata": {
        "id": "6WI2GPuhrhvB"
      },
      "source": [
        "print('Increasing petal width')\n",
        "print('P(setosa) before:', svc_clf.predict_proba(temp.reshape(1,-1))[0,0])\n",
        "# TODO: set some value to the petal width feature\n",
        "\n",
        "# TODO: print the SVM's prediction of the new instance"
      ],
      "execution_count": null,
      "outputs": []
    },
    {
      "cell_type": "code",
      "metadata": {
        "id": "_OuXNApJriMG"
      },
      "source": [
        "print('Increasing petal length')\n",
        "# TODO: do the same but for petal length feature"
      ],
      "execution_count": null,
      "outputs": []
    },
    {
      "cell_type": "code",
      "metadata": {
        "id": "IBpLlVzsriia"
      },
      "source": [
        "print('Increasing both')\n",
        "# TODO: do the same but for both features: petal width and petal length"
      ],
      "execution_count": null,
      "outputs": []
    },
    {
      "cell_type": "code",
      "metadata": {
        "id": "OwXt_52Ms7MZ"
      },
      "source": [
        "# the above can be done simply by passing in a point, predicting its class, and the modifying it\n",
        "# this will predict probabilities for each class\n",
        "# TODO: use SVM to predict probabilites of several, manually created datapoints"
      ],
      "execution_count": null,
      "outputs": []
    },
    {
      "cell_type": "markdown",
      "metadata": {
        "id": "M6YVdaR4sfe8"
      },
      "source": [
        "# **Practical 5**"
      ]
    },
    {
      "cell_type": "code",
      "metadata": {
        "id": "7SpbTVRqslR_"
      },
      "source": [
        "# TODO: use LimeTabularExplainer to explain predictions"
      ],
      "execution_count": null,
      "outputs": []
    },
    {
      "cell_type": "code",
      "metadata": {
        "id": "Wmmp8tQ-tP8Y"
      },
      "source": [
        "# exp is the explained instance\n",
        "exp.show_in_notebook(show_table=True, show_all=False) # show_all=False means we display only the features used in explanations"
      ],
      "execution_count": null,
      "outputs": []
    }
  ]
}