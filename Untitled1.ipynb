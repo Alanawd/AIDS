{
  "nbformat": 4,
  "nbformat_minor": 0,
  "metadata": {
    "colab": {
      "name": "Untitled1.ipynb",
      "provenance": [],
      "authorship_tag": "ABX9TyOYMP0LBjb9i8ljAM+O5LNX",
      "include_colab_link": true
    },
    "kernelspec": {
      "name": "python3",
      "display_name": "Python 3"
    },
    "language_info": {
      "name": "python"
    }
  },
  "cells": [
    {
      "cell_type": "markdown",
      "metadata": {
        "id": "view-in-github",
        "colab_type": "text"
      },
      "source": [
        "<a href=\"https://colab.research.google.com/github/Alanawd/AIDS/blob/main/Untitled1.ipynb\" target=\"_parent\"><img src=\"https://colab.research.google.com/assets/colab-badge.svg\" alt=\"Open In Colab\"/></a>"
      ]
    },
    {
      "cell_type": "code",
      "metadata": {
        "colab": {
          "base_uri": "https://localhost:8080/",
          "height": 206
        },
        "id": "E1GrOdgP271s",
        "outputId": "a7cbc7e1-0582-409d-c733-2f6b6941707e"
      },
      "source": [
        "import pandas as pd\n",
        "\n",
        "data = pd.read_csv(\"bbc-news-data-set.csv\")\n",
        "data.head()"
      ],
      "execution_count": 2,
      "outputs": [
        {
          "output_type": "execute_result",
          "data": {
            "text/html": [
              "<div>\n",
              "<style scoped>\n",
              "    .dataframe tbody tr th:only-of-type {\n",
              "        vertical-align: middle;\n",
              "    }\n",
              "\n",
              "    .dataframe tbody tr th {\n",
              "        vertical-align: top;\n",
              "    }\n",
              "\n",
              "    .dataframe thead th {\n",
              "        text-align: right;\n",
              "    }\n",
              "</style>\n",
              "<table border=\"1\" class=\"dataframe\">\n",
              "  <thead>\n",
              "    <tr style=\"text-align: right;\">\n",
              "      <th></th>\n",
              "      <th>date</th>\n",
              "      <th>headline</th>\n",
              "      <th>description</th>\n",
              "      <th>label</th>\n",
              "    </tr>\n",
              "  </thead>\n",
              "  <tbody>\n",
              "    <tr>\n",
              "      <th>0</th>\n",
              "      <td>Wed, 04 Aug 2021 10:37:32 GMT</td>\n",
              "      <td>'Blistered' couple set to finish Olympic sport...</td>\n",
              "      <td>Charlotte Nichols and Stuart Bates are attempt...</td>\n",
              "      <td>uk</td>\n",
              "    </tr>\n",
              "    <tr>\n",
              "      <th>1</th>\n",
              "      <td>Wed, 21 Jul 2021 18:06:19 GMT</td>\n",
              "      <td>'Catastrophic' backlog at driving licence body...</td>\n",
              "      <td>MPs are told bad decisions by DVLA managers re...</td>\n",
              "      <td>business</td>\n",
              "    </tr>\n",
              "    <tr>\n",
              "      <th>2</th>\n",
              "      <td>Wed, 14 Jul 2021 06:41:09 GMT</td>\n",
              "      <td>'Endless ribbon' decorates Coventry for City o...</td>\n",
              "      <td>Artist Morag Myerscough created the colourful ...</td>\n",
              "      <td>uk</td>\n",
              "    </tr>\n",
              "    <tr>\n",
              "      <th>3</th>\n",
              "      <td>Fri, 23 Jul 2021 01:43:40 GMT</td>\n",
              "      <td>'Ghost school' with no students for a second year</td>\n",
              "      <td>English language schools warn they are on the ...</td>\n",
              "      <td>education-and-family</td>\n",
              "    </tr>\n",
              "    <tr>\n",
              "      <th>4</th>\n",
              "      <td>Tue, 29 Jun 2021 05:37:38 GMT</td>\n",
              "      <td>'Holiday food poisoning left me paralysed'</td>\n",
              "      <td>Malcolm Brown developed a rare autoimmune dise...</td>\n",
              "      <td>health</td>\n",
              "    </tr>\n",
              "  </tbody>\n",
              "</table>\n",
              "</div>"
            ],
            "text/plain": [
              "                            date  ...                 label\n",
              "0  Wed, 04 Aug 2021 10:37:32 GMT  ...                    uk\n",
              "1  Wed, 21 Jul 2021 18:06:19 GMT  ...              business\n",
              "2  Wed, 14 Jul 2021 06:41:09 GMT  ...                    uk\n",
              "3  Fri, 23 Jul 2021 01:43:40 GMT  ...  education-and-family\n",
              "4  Tue, 29 Jun 2021 05:37:38 GMT  ...                health\n",
              "\n",
              "[5 rows x 4 columns]"
            ]
          },
          "metadata": {
            "tags": []
          },
          "execution_count": 2
        }
      ]
    },
    {
      "cell_type": "code",
      "metadata": {
        "id": "g9X4Q8rk4RWO"
      },
      "source": [
        "#E xploratory Data Analysis EDA\n",
        "#https://towardsdatascience.com/exploratory-data-analysis-in-python-c9a77dfa39ce\n",
        "# Importing required libraries.\n",
        "import pandas as pd\n",
        "import numpy as np\n",
        "import seaborn as sns #visualisation\n",
        "import matplotlib.pyplot as plt #visualisation\n",
        "%matplotlib inline \n",
        "sns.set(color_codes=True)\n",
        "\n",
        "df = pd.read_csv(“data.csv”)\n",
        "# To display the top 5 rows\n",
        "df.head(5)\n",
        "\n",
        "# To display the bottom 5 rows\n",
        "df.tail(5) \n",
        "\n",
        "# Checking the data type\n",
        "df.dtypes\n",
        "\n"
      ],
      "execution_count": null,
      "outputs": []
    }
  ]
}